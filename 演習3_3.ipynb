{
  "nbformat": 4,
  "nbformat_minor": 0,
  "metadata": {
    "colab": {
      "provenance": []
    },
    "kernelspec": {
      "name": "python3",
      "display_name": "Python 3"
    },
    "language_info": {
      "name": "python"
    }
  },
  "cells": [
    {
      "cell_type": "code",
      "execution_count": 5,
      "metadata": {
        "colab": {
          "base_uri": "https://localhost:8080/"
        },
        "id": "CWgliSkfYKKC",
        "outputId": "54ad45e4-d07b-4ddd-85ed-df8f96027ee9"
      },
      "outputs": [
        {
          "output_type": "stream",
          "name": "stdout",
          "text": [
            "ターゲット\n",
            "[0 0 0 0 0 0 0 0 0 0 0 0 0 0 0 0 0 0 0 0 0 0 0 0 0 0 0 0 0 0 0 0 0 0 0 0 0\n",
            " 0 0 0 0 0 0 0 0 0 0 0 0 0 1 1 1 1 1 1 1 1 1 1 1 1 1 1 1 1 1 1 1 1 1 1 1 1\n",
            " 1 1 1 1 1 1 1 1 1 1 1 1 1 1 1 1 1 1 1 1 1 1 1 1 1 1 2 2 2 2 2 2 2 2 2 2 2\n",
            " 2 2 2 2 2 2 2 2 2 2 2 2 2 2 2 2 2 2 2 2 2 2 2 2 2 2 2 2 2 2 2 2 2 2 2 2 2\n",
            " 2 2]\n",
            "機械学習による予測\n",
            "[0 0 0 0 0 0 0 0 0 0 0 0 0 0 0 0 0 0 0 0 0 0 0 0 0 0 0 0 0 0 0 0 0 0 0 0 0\n",
            " 0 0 0 0 0 0 0 0 0 0 0 0 0 1 1 1 1 1 1 1 1 1 1 1 1 1 1 1 1 1 1 1 1 1 1 1 1\n",
            " 1 1 1 1 1 1 1 1 1 2 1 1 1 1 1 1 1 1 1 1 1 1 1 1 1 1 2 2 2 2 2 2 2 2 2 2 2\n",
            " 2 2 2 2 2 2 2 2 2 2 2 2 2 2 2 2 2 2 2 2 2 2 2 2 2 2 2 2 2 2 2 2 2 2 2 2 2\n",
            " 2 2]\n",
            "正解率:0.9933333333333333 適合率:0.9933333333333333 再現率:0.9933333333333333 F値:0.9933333333333333\n"
          ]
        }
      ],
      "source": [
        "# -*- coding: utf-8 -*-\n",
        "from sklearn import datasets, svm\n",
        "from sklearn.metrics import accuracy_score, precision_score, recall_score, f1_score\n",
        "\n",
        "# アヤメのデータをロードし、変数irisに格納\n",
        "iris = datasets.load_iris()\n",
        "\n",
        "# 特徴量のセットを変数Xに、ターゲットを変数yに格納\n",
        "X = iris.data\n",
        "y = iris.target\n",
        "\n",
        "# 分類用にサポートベクトルマシンを用意\n",
        "clf = svm.SVC(C=1.0, kernel='linear', decision_function_shape='ovr')\n",
        "# データに最適化\n",
        "clf.fit(X, y)\n",
        "\n",
        "# データを分類器に与え、予測を得る\n",
        "result = clf.predict(X)\n",
        "\n",
        "print('ターゲット')\n",
        "print(y)\n",
        "print('機械学習による予測')\n",
        "print(result)\n",
        "\n",
        "\n",
        "\n",
        "acc = accuracy_score(y, result)\n",
        "p = precision_score(y, result, average='micro')\n",
        "r = recall_score(y, result, average='micro')\n",
        "f1 = f1_score(y, result, average='micro')\n",
        "\n",
        "print(\"正解率:{0} 適合率:{1} 再現率:{2} F値:{3}\".format(acc, p, r, f1))"
      ]
    },
    {
      "cell_type": "code",
      "source": [
        "clf = svm.SVC(C=1.0, kernel='linear', decision_function_shape='ovo')\n",
        "# データに最適化\n",
        "clf.fit(X, y)\n",
        "\n",
        "# データを分類器に与え、予測を得る\n",
        "result = clf.predict(X)\n",
        "\n",
        "print('ターゲット')\n",
        "print(y)\n",
        "print('機械学習による予測')\n",
        "print(result)\n",
        "\n",
        "\n",
        "\n",
        "acc = accuracy_score(y, result)\n",
        "p = precision_score(y, result, average='micro')\n",
        "r = recall_score(y, result, average='micro')\n",
        "f1 = f1_score(y, result, average='micro')\n",
        "\n",
        "print(\"正解率:{0} 適合率:{1} 再現率:{2} F値:{3}\".format(acc, p, r, f1))"
      ],
      "metadata": {
        "colab": {
          "base_uri": "https://localhost:8080/"
        },
        "id": "ov1GMfA3aDuj",
        "outputId": "819171f0-b1a7-4881-93d0-e24ebb337aa1"
      },
      "execution_count": 7,
      "outputs": [
        {
          "output_type": "stream",
          "name": "stdout",
          "text": [
            "ターゲット\n",
            "[0 0 0 0 0 0 0 0 0 0 0 0 0 0 0 0 0 0 0 0 0 0 0 0 0 0 0 0 0 0 0 0 0 0 0 0 0\n",
            " 0 0 0 0 0 0 0 0 0 0 0 0 0 1 1 1 1 1 1 1 1 1 1 1 1 1 1 1 1 1 1 1 1 1 1 1 1\n",
            " 1 1 1 1 1 1 1 1 1 1 1 1 1 1 1 1 1 1 1 1 1 1 1 1 1 1 2 2 2 2 2 2 2 2 2 2 2\n",
            " 2 2 2 2 2 2 2 2 2 2 2 2 2 2 2 2 2 2 2 2 2 2 2 2 2 2 2 2 2 2 2 2 2 2 2 2 2\n",
            " 2 2]\n",
            "機械学習による予測\n",
            "[0 0 0 0 0 0 0 0 0 0 0 0 0 0 0 0 0 0 0 0 0 0 0 0 0 0 0 0 0 0 0 0 0 0 0 0 0\n",
            " 0 0 0 0 0 0 0 0 0 0 0 0 0 1 1 1 1 1 1 1 1 1 1 1 1 1 1 1 1 1 1 1 1 1 1 1 1\n",
            " 1 1 1 1 1 1 1 1 1 2 1 1 1 1 1 1 1 1 1 1 1 1 1 1 1 1 2 2 2 2 2 2 2 2 2 2 2\n",
            " 2 2 2 2 2 2 2 2 2 2 2 2 2 2 2 2 2 2 2 2 2 2 2 2 2 2 2 2 2 2 2 2 2 2 2 2 2\n",
            " 2 2]\n",
            "正解率:0.9933333333333333 適合率:0.9933333333333333 再現率:0.9933333333333333 F値:0.9933333333333333\n"
          ]
        }
      ]
    },
    {
      "cell_type": "code",
      "source": [
        "clf = svm.SVC(C=1.0, kernel='rbf', decision_function_shape='ovr', gamma='auto')\n",
        "# データに最適化\n",
        "clf.fit(X, y)\n",
        "\n",
        "# データを分類器に与え、予測を得る\n",
        "result = clf.predict(X)\n",
        "\n",
        "print('ターゲット')\n",
        "print(y)\n",
        "print('機械学習による予測')\n",
        "print(result)\n",
        "\n",
        "\n",
        "\n",
        "acc = accuracy_score(y, result)\n",
        "p = precision_score(y, result, average='micro')\n",
        "r = recall_score(y, result, average='micro')\n",
        "f1 = f1_score(y, result, average='micro')\n",
        "\n",
        "print(\"正解率:{0} 適合率:{1} 再現率:{2} F値:{3}\".format(acc, p, r, f1))"
      ],
      "metadata": {
        "colab": {
          "base_uri": "https://localhost:8080/"
        },
        "id": "AaeyyOYia5P5",
        "outputId": "7d7b3afe-d8f7-46db-cca8-e8d05f916264"
      },
      "execution_count": 9,
      "outputs": [
        {
          "output_type": "stream",
          "name": "stdout",
          "text": [
            "ターゲット\n",
            "[0 0 0 0 0 0 0 0 0 0 0 0 0 0 0 0 0 0 0 0 0 0 0 0 0 0 0 0 0 0 0 0 0 0 0 0 0\n",
            " 0 0 0 0 0 0 0 0 0 0 0 0 0 1 1 1 1 1 1 1 1 1 1 1 1 1 1 1 1 1 1 1 1 1 1 1 1\n",
            " 1 1 1 1 1 1 1 1 1 1 1 1 1 1 1 1 1 1 1 1 1 1 1 1 1 1 2 2 2 2 2 2 2 2 2 2 2\n",
            " 2 2 2 2 2 2 2 2 2 2 2 2 2 2 2 2 2 2 2 2 2 2 2 2 2 2 2 2 2 2 2 2 2 2 2 2 2\n",
            " 2 2]\n",
            "機械学習による予測\n",
            "[0 0 0 0 0 0 0 0 0 0 0 0 0 0 0 0 0 0 0 0 0 0 0 0 0 0 0 0 0 0 0 0 0 0 0 0 0\n",
            " 0 0 0 0 0 0 0 0 0 0 0 0 0 1 1 1 1 1 1 1 1 1 1 1 1 1 1 1 1 1 1 1 1 1 1 1 1\n",
            " 1 1 1 2 1 1 1 1 1 2 1 1 1 1 1 1 1 1 1 1 1 1 1 1 1 1 2 2 2 2 2 2 2 2 2 2 2\n",
            " 2 2 2 2 2 2 2 2 2 2 2 2 2 2 2 2 2 2 2 2 2 2 2 2 2 2 2 2 2 2 2 2 2 2 2 2 2\n",
            " 2 2]\n",
            "正解率:0.9866666666666667 適合率:0.9866666666666667 再現率:0.9866666666666667 F値:0.9866666666666668\n"
          ]
        }
      ]
    },
    {
      "cell_type": "code",
      "source": [
        "clf = svm.SVC(C=1.0, kernel='rbf', decision_function_shape='ovo', gamma='auto')\n",
        "# データに最適化\n",
        "clf.fit(X, y)\n",
        "\n",
        "# データを分類器に与え、予測を得る\n",
        "result = clf.predict(X)\n",
        "\n",
        "print('ターゲット')\n",
        "print(y)\n",
        "print('機械学習による予測')\n",
        "print(result)\n",
        "\n",
        "\n",
        "\n",
        "acc = accuracy_score(y, result)\n",
        "p = precision_score(y, result, average='micro')\n",
        "r = recall_score(y, result, average='micro')\n",
        "f1 = f1_score(y, result, average='micro')\n",
        "\n",
        "print(\"正解率:{0} 適合率:{1} 再現率:{2} F値:{3}\".format(acc, p, r, f1))"
      ],
      "metadata": {
        "colab": {
          "base_uri": "https://localhost:8080/"
        },
        "id": "8BBE97tIbTmj",
        "outputId": "abe879e4-6f93-4b47-d7ba-b1d5099f6adf"
      },
      "execution_count": 10,
      "outputs": [
        {
          "output_type": "stream",
          "name": "stdout",
          "text": [
            "ターゲット\n",
            "[0 0 0 0 0 0 0 0 0 0 0 0 0 0 0 0 0 0 0 0 0 0 0 0 0 0 0 0 0 0 0 0 0 0 0 0 0\n",
            " 0 0 0 0 0 0 0 0 0 0 0 0 0 1 1 1 1 1 1 1 1 1 1 1 1 1 1 1 1 1 1 1 1 1 1 1 1\n",
            " 1 1 1 1 1 1 1 1 1 1 1 1 1 1 1 1 1 1 1 1 1 1 1 1 1 1 2 2 2 2 2 2 2 2 2 2 2\n",
            " 2 2 2 2 2 2 2 2 2 2 2 2 2 2 2 2 2 2 2 2 2 2 2 2 2 2 2 2 2 2 2 2 2 2 2 2 2\n",
            " 2 2]\n",
            "機械学習による予測\n",
            "[0 0 0 0 0 0 0 0 0 0 0 0 0 0 0 0 0 0 0 0 0 0 0 0 0 0 0 0 0 0 0 0 0 0 0 0 0\n",
            " 0 0 0 0 0 0 0 0 0 0 0 0 0 1 1 1 1 1 1 1 1 1 1 1 1 1 1 1 1 1 1 1 1 1 1 1 1\n",
            " 1 1 1 2 1 1 1 1 1 2 1 1 1 1 1 1 1 1 1 1 1 1 1 1 1 1 2 2 2 2 2 2 2 2 2 2 2\n",
            " 2 2 2 2 2 2 2 2 2 2 2 2 2 2 2 2 2 2 2 2 2 2 2 2 2 2 2 2 2 2 2 2 2 2 2 2 2\n",
            " 2 2]\n",
            "正解率:0.9866666666666667 適合率:0.9866666666666667 再現率:0.9866666666666667 F値:0.9866666666666668\n"
          ]
        }
      ]
    },
    {
      "cell_type": "code",
      "source": [
        "clf = svm.SVC(C=1.0, kernel='rbf', decision_function_shape='ovr', gamma=1.0)\n",
        "# データに最適化\n",
        "clf.fit(X, y)\n",
        "\n",
        "# データを分類器に与え、予測を得る\n",
        "result = clf.predict(X)\n",
        "\n",
        "print('ターゲット')\n",
        "print(y)\n",
        "print('機械学習による予測')\n",
        "print(result)\n",
        "\n",
        "\n",
        "\n",
        "acc = accuracy_score(y, result)\n",
        "p = precision_score(y, result, average='micro')\n",
        "r = recall_score(y, result, average='micro')\n",
        "f1 = f1_score(y, result, average='micro')\n",
        "\n",
        "print(\"正解率:{0} 適合率:{1} 再現率:{2} F値:{3}\".format(acc, p, r, f1))"
      ],
      "metadata": {
        "colab": {
          "base_uri": "https://localhost:8080/"
        },
        "id": "lSY_lo-9biAu",
        "outputId": "4a137f8e-cf82-479e-be28-196e824fd4d9"
      },
      "execution_count": 11,
      "outputs": [
        {
          "output_type": "stream",
          "name": "stdout",
          "text": [
            "ターゲット\n",
            "[0 0 0 0 0 0 0 0 0 0 0 0 0 0 0 0 0 0 0 0 0 0 0 0 0 0 0 0 0 0 0 0 0 0 0 0 0\n",
            " 0 0 0 0 0 0 0 0 0 0 0 0 0 1 1 1 1 1 1 1 1 1 1 1 1 1 1 1 1 1 1 1 1 1 1 1 1\n",
            " 1 1 1 1 1 1 1 1 1 1 1 1 1 1 1 1 1 1 1 1 1 1 1 1 1 1 2 2 2 2 2 2 2 2 2 2 2\n",
            " 2 2 2 2 2 2 2 2 2 2 2 2 2 2 2 2 2 2 2 2 2 2 2 2 2 2 2 2 2 2 2 2 2 2 2 2 2\n",
            " 2 2]\n",
            "機械学習による予測\n",
            "[0 0 0 0 0 0 0 0 0 0 0 0 0 0 0 0 0 0 0 0 0 0 0 0 0 0 0 0 0 0 0 0 0 0 0 0 0\n",
            " 0 0 0 0 0 0 0 0 0 0 0 0 0 1 1 1 1 1 1 1 1 1 1 1 1 1 1 1 1 1 1 1 1 2 1 1 1\n",
            " 1 1 1 2 1 1 1 1 1 2 1 1 1 1 1 1 1 1 1 1 1 1 1 1 1 1 2 2 2 2 2 2 2 2 2 2 2\n",
            " 2 2 2 2 2 2 2 2 2 2 2 2 2 2 2 2 2 2 2 2 2 2 2 2 2 2 2 2 2 2 2 2 2 2 2 2 2\n",
            " 2 2]\n",
            "正解率:0.98 適合率:0.98 再現率:0.98 F値:0.98\n"
          ]
        }
      ]
    },
    {
      "cell_type": "code",
      "source": [
        "clf = svm.SVC(C=1.0, kernel='rbf', decision_function_shape='ovo', gamma=1.0)\n",
        "# データに最適化\n",
        "clf.fit(X, y)\n",
        "\n",
        "# データを分類器に与え、予測を得る\n",
        "result = clf.predict(X)\n",
        "\n",
        "print('ターゲット')\n",
        "print(y)\n",
        "print('機械学習による予測')\n",
        "print(result)\n",
        "\n",
        "\n",
        "\n",
        "acc = accuracy_score(y, result)\n",
        "p = precision_score(y, result, average='micro')\n",
        "r = recall_score(y, result, average='micro')\n",
        "f1 = f1_score(y, result, average='micro')\n",
        "\n",
        "print(\"正解率:{0} 適合率:{1} 再現率:{2} F値:{3}\".format(acc, p, r, f1))"
      ],
      "metadata": {
        "colab": {
          "base_uri": "https://localhost:8080/"
        },
        "id": "ZxMPzavZbqG8",
        "outputId": "495946e0-9629-4ab6-8b0f-ba6467e4131e"
      },
      "execution_count": 12,
      "outputs": [
        {
          "output_type": "stream",
          "name": "stdout",
          "text": [
            "ターゲット\n",
            "[0 0 0 0 0 0 0 0 0 0 0 0 0 0 0 0 0 0 0 0 0 0 0 0 0 0 0 0 0 0 0 0 0 0 0 0 0\n",
            " 0 0 0 0 0 0 0 0 0 0 0 0 0 1 1 1 1 1 1 1 1 1 1 1 1 1 1 1 1 1 1 1 1 1 1 1 1\n",
            " 1 1 1 1 1 1 1 1 1 1 1 1 1 1 1 1 1 1 1 1 1 1 1 1 1 1 2 2 2 2 2 2 2 2 2 2 2\n",
            " 2 2 2 2 2 2 2 2 2 2 2 2 2 2 2 2 2 2 2 2 2 2 2 2 2 2 2 2 2 2 2 2 2 2 2 2 2\n",
            " 2 2]\n",
            "機械学習による予測\n",
            "[0 0 0 0 0 0 0 0 0 0 0 0 0 0 0 0 0 0 0 0 0 0 0 0 0 0 0 0 0 0 0 0 0 0 0 0 0\n",
            " 0 0 0 0 0 0 0 0 0 0 0 0 0 1 1 1 1 1 1 1 1 1 1 1 1 1 1 1 1 1 1 1 1 2 1 1 1\n",
            " 1 1 1 2 1 1 1 1 1 2 1 1 1 1 1 1 1 1 1 1 1 1 1 1 1 1 2 2 2 2 2 2 2 2 2 2 2\n",
            " 2 2 2 2 2 2 2 2 2 2 2 2 2 2 2 2 2 2 2 2 2 2 2 2 2 2 2 2 2 2 2 2 2 2 2 2 2\n",
            " 2 2]\n",
            "正解率:0.98 適合率:0.98 再現率:0.98 F値:0.98\n"
          ]
        }
      ]
    }
  ]
}